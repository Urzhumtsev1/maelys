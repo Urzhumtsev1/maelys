{
 "cells": [
  {
   "cell_type": "code",
   "execution_count": 1,
   "metadata": {},
   "outputs": [],
   "source": [
    "import pandas as pd"
   ]
  },
  {
   "cell_type": "markdown",
   "metadata": {},
   "source": [
    "## Import"
   ]
  },
  {
   "cell_type": "code",
   "execution_count": 4,
   "metadata": {},
   "outputs": [
    {
     "data": {
      "text/html": [
       "<div>\n",
       "<style scoped>\n",
       "    .dataframe tbody tr th:only-of-type {\n",
       "        vertical-align: middle;\n",
       "    }\n",
       "\n",
       "    .dataframe tbody tr th {\n",
       "        vertical-align: top;\n",
       "    }\n",
       "\n",
       "    .dataframe thead th {\n",
       "        text-align: right;\n",
       "    }\n",
       "</style>\n",
       "<table border=\"1\" class=\"dataframe\">\n",
       "  <thead>\n",
       "    <tr style=\"text-align: right;\">\n",
       "      <th></th>\n",
       "      <th>date/time</th>\n",
       "      <th>settlement id</th>\n",
       "      <th>type</th>\n",
       "      <th>order id</th>\n",
       "      <th>sku</th>\n",
       "      <th>description</th>\n",
       "      <th>quantity</th>\n",
       "      <th>marketplace</th>\n",
       "      <th>account type</th>\n",
       "      <th>fulfillment</th>\n",
       "      <th>...</th>\n",
       "      <th>Regulatory Fee</th>\n",
       "      <th>Tax On Regulatory Fee</th>\n",
       "      <th>promotional rebates</th>\n",
       "      <th>promotional rebates tax</th>\n",
       "      <th>marketplace withheld tax</th>\n",
       "      <th>selling fees</th>\n",
       "      <th>fba fees</th>\n",
       "      <th>other transaction fees</th>\n",
       "      <th>other</th>\n",
       "      <th>total</th>\n",
       "    </tr>\n",
       "  </thead>\n",
       "  <tbody>\n",
       "    <tr>\n",
       "      <th>0</th>\n",
       "      <td>Aug 1, 2022 12:00:47 AM PDT</td>\n",
       "      <td>16324943081</td>\n",
       "      <td>Order</td>\n",
       "      <td>112-8186343-4319414</td>\n",
       "      <td>BP-FBA</td>\n",
       "      <td>MAELYS B-PERKY Lift &amp; Firm Breast Mask</td>\n",
       "      <td>1.0</td>\n",
       "      <td>amazon.com</td>\n",
       "      <td>Standard Orders</td>\n",
       "      <td>Amazon</td>\n",
       "      <td>...</td>\n",
       "      <td>0</td>\n",
       "      <td>0</td>\n",
       "      <td>0.00</td>\n",
       "      <td>0</td>\n",
       "      <td>-2.54</td>\n",
       "      <td>-5.85</td>\n",
       "      <td>-4.75</td>\n",
       "      <td>-5.85</td>\n",
       "      <td>0</td>\n",
       "      <td>22.55</td>\n",
       "    </tr>\n",
       "    <tr>\n",
       "      <th>1</th>\n",
       "      <td>Aug 1, 2022 12:08:18 AM PDT</td>\n",
       "      <td>16324943081</td>\n",
       "      <td>Order</td>\n",
       "      <td>111-2074389-8699404</td>\n",
       "      <td>BF-FBA</td>\n",
       "      <td>MAELYS B-FLAT Belly Firming Cream</td>\n",
       "      <td>1.0</td>\n",
       "      <td>amazon.com</td>\n",
       "      <td>Standard Orders</td>\n",
       "      <td>Amazon</td>\n",
       "      <td>...</td>\n",
       "      <td>0</td>\n",
       "      <td>0</td>\n",
       "      <td>-1.50</td>\n",
       "      <td>0</td>\n",
       "      <td>-4.10</td>\n",
       "      <td>-7.35</td>\n",
       "      <td>-3.96</td>\n",
       "      <td>-7.35</td>\n",
       "      <td>0</td>\n",
       "      <td>30.34</td>\n",
       "    </tr>\n",
       "    <tr>\n",
       "      <th>2</th>\n",
       "      <td>Aug 1, 2022 12:13:33 AM PDT</td>\n",
       "      <td>16226407291</td>\n",
       "      <td>Order</td>\n",
       "      <td>111-7930213-5326653</td>\n",
       "      <td>BT-FBA</td>\n",
       "      <td>MAELYS B-TIGHT Lift &amp; Firm Booty Mask</td>\n",
       "      <td>1.0</td>\n",
       "      <td>amazon.com</td>\n",
       "      <td>Invoiced Orders</td>\n",
       "      <td>Amazon</td>\n",
       "      <td>...</td>\n",
       "      <td>0</td>\n",
       "      <td>0</td>\n",
       "      <td>0.00</td>\n",
       "      <td>0</td>\n",
       "      <td>-2.94</td>\n",
       "      <td>-7.35</td>\n",
       "      <td>-3.96</td>\n",
       "      <td>0.00</td>\n",
       "      <td>0</td>\n",
       "      <td>37.69</td>\n",
       "    </tr>\n",
       "    <tr>\n",
       "      <th>3</th>\n",
       "      <td>Aug 1, 2022 12:13:40 AM PDT</td>\n",
       "      <td>16324943081</td>\n",
       "      <td>Order</td>\n",
       "      <td>111-6156812-9619407</td>\n",
       "      <td>BT-FBA</td>\n",
       "      <td>MAELYS B-TIGHT Lift &amp; Firm Booty Mask</td>\n",
       "      <td>1.0</td>\n",
       "      <td>amazon.com</td>\n",
       "      <td>Standard Orders</td>\n",
       "      <td>Amazon</td>\n",
       "      <td>...</td>\n",
       "      <td>0</td>\n",
       "      <td>0</td>\n",
       "      <td>0.00</td>\n",
       "      <td>0</td>\n",
       "      <td>-4.35</td>\n",
       "      <td>-7.35</td>\n",
       "      <td>-3.96</td>\n",
       "      <td>-7.35</td>\n",
       "      <td>0</td>\n",
       "      <td>30.34</td>\n",
       "    </tr>\n",
       "    <tr>\n",
       "      <th>4</th>\n",
       "      <td>Aug 1, 2022 12:15:02 AM PDT</td>\n",
       "      <td>16324943081</td>\n",
       "      <td>Order</td>\n",
       "      <td>112-9338707-5427449</td>\n",
       "      <td>BT-FBA</td>\n",
       "      <td>MAELYS B-TIGHT Lift &amp; Firm Booty Mask</td>\n",
       "      <td>1.0</td>\n",
       "      <td>amazon.com</td>\n",
       "      <td>Standard Orders</td>\n",
       "      <td>Amazon</td>\n",
       "      <td>...</td>\n",
       "      <td>0</td>\n",
       "      <td>0</td>\n",
       "      <td>0.00</td>\n",
       "      <td>0</td>\n",
       "      <td>-4.53</td>\n",
       "      <td>-7.35</td>\n",
       "      <td>-3.96</td>\n",
       "      <td>-7.35</td>\n",
       "      <td>0</td>\n",
       "      <td>30.34</td>\n",
       "    </tr>\n",
       "    <tr>\n",
       "      <th>...</th>\n",
       "      <td>...</td>\n",
       "      <td>...</td>\n",
       "      <td>...</td>\n",
       "      <td>...</td>\n",
       "      <td>...</td>\n",
       "      <td>...</td>\n",
       "      <td>...</td>\n",
       "      <td>...</td>\n",
       "      <td>...</td>\n",
       "      <td>...</td>\n",
       "      <td>...</td>\n",
       "      <td>...</td>\n",
       "      <td>...</td>\n",
       "      <td>...</td>\n",
       "      <td>...</td>\n",
       "      <td>...</td>\n",
       "      <td>...</td>\n",
       "      <td>...</td>\n",
       "      <td>...</td>\n",
       "      <td>...</td>\n",
       "      <td>...</td>\n",
       "    </tr>\n",
       "    <tr>\n",
       "      <th>21705</th>\n",
       "      <td>Aug 31, 2022 11:52:44 PM PDT</td>\n",
       "      <td>16429365571</td>\n",
       "      <td>Order</td>\n",
       "      <td>114-5070051-5866626</td>\n",
       "      <td>BT-FBA</td>\n",
       "      <td>MAËLYS B-TIGHT Lift &amp; Firm Booty Mask</td>\n",
       "      <td>1.0</td>\n",
       "      <td>amazon.com</td>\n",
       "      <td>Standard Orders</td>\n",
       "      <td>Amazon</td>\n",
       "      <td>...</td>\n",
       "      <td>0</td>\n",
       "      <td>0</td>\n",
       "      <td>-1.89</td>\n",
       "      <td>0</td>\n",
       "      <td>-4.21</td>\n",
       "      <td>-7.35</td>\n",
       "      <td>-3.96</td>\n",
       "      <td>-7.35</td>\n",
       "      <td>0</td>\n",
       "      <td>30.34</td>\n",
       "    </tr>\n",
       "    <tr>\n",
       "      <th>21706</th>\n",
       "      <td>Aug 31, 2022 11:52:53 PM PDT</td>\n",
       "      <td>16429365571</td>\n",
       "      <td>Order</td>\n",
       "      <td>113-1327108-8403436</td>\n",
       "      <td>BF-FBA</td>\n",
       "      <td>MAELYS B-FLAT Belly Firming Cream</td>\n",
       "      <td>2.0</td>\n",
       "      <td>amazon.com</td>\n",
       "      <td>Standard Orders</td>\n",
       "      <td>Amazon</td>\n",
       "      <td>...</td>\n",
       "      <td>0</td>\n",
       "      <td>0</td>\n",
       "      <td>-7.45</td>\n",
       "      <td>0</td>\n",
       "      <td>-8.42</td>\n",
       "      <td>-14.70</td>\n",
       "      <td>-7.92</td>\n",
       "      <td>-14.70</td>\n",
       "      <td>0</td>\n",
       "      <td>60.68</td>\n",
       "    </tr>\n",
       "    <tr>\n",
       "      <th>21707</th>\n",
       "      <td>Aug 31, 2022 11:53:34 PM PDT</td>\n",
       "      <td>16429365571</td>\n",
       "      <td>Order</td>\n",
       "      <td>112-3938639-3786630</td>\n",
       "      <td>7290017683744AMZUS</td>\n",
       "      <td>MAËLYS B FLEX Lift and Firm Arm Cream - for Ti...</td>\n",
       "      <td>1.0</td>\n",
       "      <td>amazon.com</td>\n",
       "      <td>Standard Orders</td>\n",
       "      <td>Amazon</td>\n",
       "      <td>...</td>\n",
       "      <td>0</td>\n",
       "      <td>0</td>\n",
       "      <td>0.00</td>\n",
       "      <td>0</td>\n",
       "      <td>-2.45</td>\n",
       "      <td>-7.35</td>\n",
       "      <td>-3.96</td>\n",
       "      <td>-7.35</td>\n",
       "      <td>0</td>\n",
       "      <td>30.34</td>\n",
       "    </tr>\n",
       "    <tr>\n",
       "      <th>21708</th>\n",
       "      <td>Aug 31, 2022 11:53:59 PM PDT</td>\n",
       "      <td>16429365571</td>\n",
       "      <td>Order</td>\n",
       "      <td>111-0614207-9157055</td>\n",
       "      <td>BF-FBA</td>\n",
       "      <td>MAELYS B-FLAT Belly Firming Cream</td>\n",
       "      <td>1.0</td>\n",
       "      <td>amazon.com</td>\n",
       "      <td>Standard Orders</td>\n",
       "      <td>Amazon</td>\n",
       "      <td>...</td>\n",
       "      <td>0</td>\n",
       "      <td>0</td>\n",
       "      <td>0.00</td>\n",
       "      <td>0</td>\n",
       "      <td>-5.02</td>\n",
       "      <td>-7.35</td>\n",
       "      <td>-3.96</td>\n",
       "      <td>-7.35</td>\n",
       "      <td>0</td>\n",
       "      <td>30.34</td>\n",
       "    </tr>\n",
       "    <tr>\n",
       "      <th>21709</th>\n",
       "      <td>Aug 31, 2022 11:54:02 PM PDT</td>\n",
       "      <td>16429365571</td>\n",
       "      <td>Order</td>\n",
       "      <td>114-6244137-8921857</td>\n",
       "      <td>7290017683744AMZUS</td>\n",
       "      <td>MAËLYS B FLEX Lift and Firm Arm Cream - for Ti...</td>\n",
       "      <td>1.0</td>\n",
       "      <td>amazon.com</td>\n",
       "      <td>Standard Orders</td>\n",
       "      <td>Amazon</td>\n",
       "      <td>...</td>\n",
       "      <td>0</td>\n",
       "      <td>0</td>\n",
       "      <td>0.00</td>\n",
       "      <td>0</td>\n",
       "      <td>0.00</td>\n",
       "      <td>-7.35</td>\n",
       "      <td>-3.96</td>\n",
       "      <td>-7.35</td>\n",
       "      <td>0</td>\n",
       "      <td>30.34</td>\n",
       "    </tr>\n",
       "  </tbody>\n",
       "</table>\n",
       "<p>21710 rows × 30 columns</p>\n",
       "</div>"
      ],
      "text/plain": [
       "                          date/time  settlement id   type  \\\n",
       "0       Aug 1, 2022 12:00:47 AM PDT    16324943081  Order   \n",
       "1       Aug 1, 2022 12:08:18 AM PDT    16324943081  Order   \n",
       "2       Aug 1, 2022 12:13:33 AM PDT    16226407291  Order   \n",
       "3       Aug 1, 2022 12:13:40 AM PDT    16324943081  Order   \n",
       "4       Aug 1, 2022 12:15:02 AM PDT    16324943081  Order   \n",
       "...                             ...            ...    ...   \n",
       "21705  Aug 31, 2022 11:52:44 PM PDT    16429365571  Order   \n",
       "21706  Aug 31, 2022 11:52:53 PM PDT    16429365571  Order   \n",
       "21707  Aug 31, 2022 11:53:34 PM PDT    16429365571  Order   \n",
       "21708  Aug 31, 2022 11:53:59 PM PDT    16429365571  Order   \n",
       "21709  Aug 31, 2022 11:54:02 PM PDT    16429365571  Order   \n",
       "\n",
       "                  order id                 sku  \\\n",
       "0      112-8186343-4319414              BP-FBA   \n",
       "1      111-2074389-8699404              BF-FBA   \n",
       "2      111-7930213-5326653              BT-FBA   \n",
       "3      111-6156812-9619407              BT-FBA   \n",
       "4      112-9338707-5427449              BT-FBA   \n",
       "...                    ...                 ...   \n",
       "21705  114-5070051-5866626              BT-FBA   \n",
       "21706  113-1327108-8403436              BF-FBA   \n",
       "21707  112-3938639-3786630  7290017683744AMZUS   \n",
       "21708  111-0614207-9157055              BF-FBA   \n",
       "21709  114-6244137-8921857  7290017683744AMZUS   \n",
       "\n",
       "                                             description  quantity  \\\n",
       "0                 MAELYS B-PERKY Lift & Firm Breast Mask       1.0   \n",
       "1                      MAELYS B-FLAT Belly Firming Cream       1.0   \n",
       "2                  MAELYS B-TIGHT Lift & Firm Booty Mask       1.0   \n",
       "3                  MAELYS B-TIGHT Lift & Firm Booty Mask       1.0   \n",
       "4                  MAELYS B-TIGHT Lift & Firm Booty Mask       1.0   \n",
       "...                                                  ...       ...   \n",
       "21705              MAËLYS B-TIGHT Lift & Firm Booty Mask       1.0   \n",
       "21706                  MAELYS B-FLAT Belly Firming Cream       2.0   \n",
       "21707  MAËLYS B FLEX Lift and Firm Arm Cream - for Ti...       1.0   \n",
       "21708                  MAELYS B-FLAT Belly Firming Cream       1.0   \n",
       "21709  MAËLYS B FLEX Lift and Firm Arm Cream - for Ti...       1.0   \n",
       "\n",
       "      marketplace     account type fulfillment  ... Regulatory Fee  \\\n",
       "0      amazon.com  Standard Orders      Amazon  ...              0   \n",
       "1      amazon.com  Standard Orders      Amazon  ...              0   \n",
       "2      amazon.com  Invoiced Orders      Amazon  ...              0   \n",
       "3      amazon.com  Standard Orders      Amazon  ...              0   \n",
       "4      amazon.com  Standard Orders      Amazon  ...              0   \n",
       "...           ...              ...         ...  ...            ...   \n",
       "21705  amazon.com  Standard Orders      Amazon  ...              0   \n",
       "21706  amazon.com  Standard Orders      Amazon  ...              0   \n",
       "21707  amazon.com  Standard Orders      Amazon  ...              0   \n",
       "21708  amazon.com  Standard Orders      Amazon  ...              0   \n",
       "21709  amazon.com  Standard Orders      Amazon  ...              0   \n",
       "\n",
       "      Tax On Regulatory Fee promotional rebates promotional rebates tax  \\\n",
       "0                         0                0.00                       0   \n",
       "1                         0               -1.50                       0   \n",
       "2                         0                0.00                       0   \n",
       "3                         0                0.00                       0   \n",
       "4                         0                0.00                       0   \n",
       "...                     ...                 ...                     ...   \n",
       "21705                     0               -1.89                       0   \n",
       "21706                     0               -7.45                       0   \n",
       "21707                     0                0.00                       0   \n",
       "21708                     0                0.00                       0   \n",
       "21709                     0                0.00                       0   \n",
       "\n",
       "       marketplace withheld tax  selling fees  fba fees  \\\n",
       "0                         -2.54         -5.85     -4.75   \n",
       "1                         -4.10         -7.35     -3.96   \n",
       "2                         -2.94         -7.35     -3.96   \n",
       "3                         -4.35         -7.35     -3.96   \n",
       "4                         -4.53         -7.35     -3.96   \n",
       "...                         ...           ...       ...   \n",
       "21705                     -4.21         -7.35     -3.96   \n",
       "21706                     -8.42        -14.70     -7.92   \n",
       "21707                     -2.45         -7.35     -3.96   \n",
       "21708                     -5.02         -7.35     -3.96   \n",
       "21709                      0.00         -7.35     -3.96   \n",
       "\n",
       "       other transaction fees  other  total  \n",
       "0                       -5.85      0  22.55  \n",
       "1                       -7.35      0  30.34  \n",
       "2                        0.00      0  37.69  \n",
       "3                       -7.35      0  30.34  \n",
       "4                       -7.35      0  30.34  \n",
       "...                       ...    ...    ...  \n",
       "21705                   -7.35      0  30.34  \n",
       "21706                  -14.70      0  60.68  \n",
       "21707                   -7.35      0  30.34  \n",
       "21708                   -7.35      0  30.34  \n",
       "21709                   -7.35      0  30.34  \n",
       "\n",
       "[21710 rows x 30 columns]"
      ]
     },
     "execution_count": 4,
     "metadata": {},
     "output_type": "execute_result"
    }
   ],
   "source": [
    "df = pd.read_csv('./2022AugMonthlyUnifiedTransaction.csv', skiprows=list(range(7)))\n",
    "df"
   ]
  },
  {
   "cell_type": "code",
   "execution_count": 5,
   "metadata": {},
   "outputs": [
    {
     "name": "stdout",
     "output_type": "stream",
     "text": [
      "<class 'pandas.core.frame.DataFrame'>\n",
      "RangeIndex: 21710 entries, 0 to 21709\n",
      "Data columns (total 30 columns):\n",
      " #   Column                    Non-Null Count  Dtype  \n",
      "---  ------                    --------------  -----  \n",
      " 0   date/time                 21710 non-null  object \n",
      " 1   settlement id             21710 non-null  int64  \n",
      " 2   type                      21710 non-null  object \n",
      " 3   order id                  21417 non-null  object \n",
      " 4   sku                       21448 non-null  object \n",
      " 5   description               21710 non-null  object \n",
      " 6   quantity                  21448 non-null  float64\n",
      " 7   marketplace               21229 non-null  object \n",
      " 8   account type              21710 non-null  object \n",
      " 9   fulfillment               21159 non-null  object \n",
      " 10  order city                21159 non-null  object \n",
      " 11  order state               21091 non-null  object \n",
      " 12  order postal              21158 non-null  object \n",
      " 13  tax collection model      19962 non-null  object \n",
      " 14  product sales             21710 non-null  float64\n",
      " 15  product sales tax         21710 non-null  float64\n",
      " 16  shipping credits          21710 non-null  float64\n",
      " 17  shipping credits tax      21710 non-null  float64\n",
      " 18  gift wrap credits         21710 non-null  float64\n",
      " 19  giftwrap credits tax      21710 non-null  float64\n",
      " 20  Regulatory Fee            21710 non-null  int64  \n",
      " 21  Tax On Regulatory Fee     21710 non-null  int64  \n",
      " 22  promotional rebates       21710 non-null  float64\n",
      " 23  promotional rebates tax   21710 non-null  int64  \n",
      " 24  marketplace withheld tax  21710 non-null  float64\n",
      " 25  selling fees              21710 non-null  float64\n",
      " 26  fba fees                  21710 non-null  float64\n",
      " 27  other transaction fees    21710 non-null  float64\n",
      " 28  other                     21710 non-null  object \n",
      " 29  total                     21710 non-null  object \n",
      "dtypes: float64(12), int64(4), object(14)\n",
      "memory usage: 5.0+ MB\n"
     ]
    }
   ],
   "source": [
    "df.info()"
   ]
  },
  {
   "cell_type": "markdown",
   "metadata": {},
   "source": [
    "## Columns"
   ]
  },
  {
   "cell_type": "code",
   "execution_count": 11,
   "metadata": {},
   "outputs": [
    {
     "data": {
      "text/plain": [
       "Index(['date/time', 'settlement id', 'type', 'order id', 'sku', 'description',\n",
       "       'quantity', 'marketplace', 'account type', 'fulfillment', 'order city',\n",
       "       'order state', 'order postal', 'tax collection model', 'product sales',\n",
       "       'product sales tax', 'shipping credits', 'shipping credits tax',\n",
       "       'gift wrap credits', 'giftwrap credits tax', 'Regulatory Fee',\n",
       "       'Tax On Regulatory Fee', 'promotional rebates',\n",
       "       'promotional rebates tax', 'marketplace withheld tax', 'selling fees',\n",
       "       'fba fees', 'other transaction fees', 'other', 'total'],\n",
       "      dtype='object')"
      ]
     },
     "execution_count": 11,
     "metadata": {},
     "output_type": "execute_result"
    }
   ],
   "source": [
    "df.columns"
   ]
  },
  {
   "cell_type": "code",
   "execution_count": 39,
   "metadata": {},
   "outputs": [],
   "source": [
    "int_columns = ['quantity', 'product sales']"
   ]
  },
  {
   "cell_type": "code",
   "execution_count": 12,
   "metadata": {},
   "outputs": [],
   "source": [
    "float_columns = ['product sales tax', 'shipping credits', 'shipping credits tax',\n",
    "       'gift wrap credits', 'giftwrap credits tax', 'Regulatory Fee',\n",
    "       'Tax On Regulatory Fee', 'promotional rebates',\n",
    "       'promotional rebates tax', 'marketplace withheld tax', 'selling fees',\n",
    "       'fba fees', 'other transaction fees', 'other', 'total']"
   ]
  },
  {
   "cell_type": "code",
   "execution_count": 14,
   "metadata": {},
   "outputs": [],
   "source": [
    "string_columns = ['type', 'order id', 'sku', 'description', 'marketplace', 'account type', 'fulfillment', 'order city',\n",
    "       'order state', 'order postal', 'tax collection model']"
   ]
  },
  {
   "cell_type": "code",
   "execution_count": 66,
   "metadata": {},
   "outputs": [],
   "source": [
    "clean_df = df.copy()"
   ]
  },
  {
   "cell_type": "markdown",
   "metadata": {},
   "source": [
    "## Parsing"
   ]
  },
  {
   "cell_type": "markdown",
   "metadata": {},
   "source": [
    "### DATETIME"
   ]
  },
  {
   "cell_type": "code",
   "execution_count": 61,
   "metadata": {},
   "outputs": [
    {
     "name": "stdout",
     "output_type": "stream",
     "text": [
      "<class 'pandas.core.series.Series'>\n",
      "RangeIndex: 21710 entries, 0 to 21709\n",
      "Series name: date/time\n",
      "Non-Null Count  Dtype \n",
      "--------------  ----- \n",
      "21710 non-null  object\n",
      "dtypes: object(1)\n",
      "memory usage: 169.7+ KB\n"
     ]
    }
   ],
   "source": [
    "df['date/time'].info()"
   ]
  },
  {
   "cell_type": "code",
   "execution_count": 67,
   "metadata": {},
   "outputs": [
    {
     "name": "stderr",
     "output_type": "stream",
     "text": [
      "/home/erickpshat/.cache/pypoetry/virtualenvs/colleagues-recs-RWU8SX3a-py3.9/lib/python3.9/site-packages/dateutil/parser/_parser.py:1207: UnknownTimezoneWarning: tzname PDT identified but not understood.  Pass `tzinfos` argument in order to correctly return a timezone-aware datetime.  In a future version, this will raise an exception.\n",
      "  warnings.warn(\"tzname {tzname} identified but not understood.  \"\n"
     ]
    },
    {
     "name": "stdout",
     "output_type": "stream",
     "text": [
      "<class 'pandas.core.series.Series'>\n",
      "RangeIndex: 21710 entries, 0 to 21709\n",
      "Series name: date/time\n",
      "Non-Null Count  Dtype         \n",
      "--------------  -----         \n",
      "21710 non-null  datetime64[ns]\n",
      "dtypes: datetime64[ns](1)\n",
      "memory usage: 169.7 KB\n"
     ]
    }
   ],
   "source": [
    "clean_df['date/time'] = pd.to_datetime(df['date/time'])\n",
    "clean_df['date/time'].info()"
   ]
  },
  {
   "cell_type": "markdown",
   "metadata": {},
   "source": [
    "### INTS"
   ]
  },
  {
   "cell_type": "code",
   "execution_count": 40,
   "metadata": {},
   "outputs": [
    {
     "name": "stdout",
     "output_type": "stream",
     "text": [
      "<class 'pandas.core.frame.DataFrame'>\n",
      "RangeIndex: 21710 entries, 0 to 21709\n",
      "Data columns (total 2 columns):\n",
      " #   Column         Non-Null Count  Dtype  \n",
      "---  ------         --------------  -----  \n",
      " 0   quantity       21448 non-null  float64\n",
      " 1   product sales  21710 non-null  float64\n",
      "dtypes: float64(2)\n",
      "memory usage: 339.3 KB\n"
     ]
    }
   ],
   "source": [
    "df[int_columns].info()"
   ]
  },
  {
   "cell_type": "code",
   "execution_count": 68,
   "metadata": {},
   "outputs": [
    {
     "name": "stdout",
     "output_type": "stream",
     "text": [
      "<class 'pandas.core.frame.DataFrame'>\n",
      "RangeIndex: 21710 entries, 0 to 21709\n",
      "Data columns (total 2 columns):\n",
      " #   Column         Non-Null Count  Dtype\n",
      "---  ------         --------------  -----\n",
      " 0   quantity       21710 non-null  int64\n",
      " 1   product sales  21710 non-null  int64\n",
      "dtypes: int64(2)\n",
      "memory usage: 339.3 KB\n"
     ]
    }
   ],
   "source": [
    "clean_df.quantity = df.quantity.fillna(0)\n",
    "clean_df[int_columns] = clean_df[int_columns].apply(lambda x: x.astype('int', errors='ignore'))\n",
    "clean_df[int_columns].info()"
   ]
  },
  {
   "cell_type": "markdown",
   "metadata": {},
   "source": [
    "### FLOATS"
   ]
  },
  {
   "cell_type": "code",
   "execution_count": 69,
   "metadata": {},
   "outputs": [
    {
     "name": "stdout",
     "output_type": "stream",
     "text": [
      "<class 'pandas.core.frame.DataFrame'>\n",
      "RangeIndex: 21710 entries, 0 to 21709\n",
      "Data columns (total 15 columns):\n",
      " #   Column                    Non-Null Count  Dtype  \n",
      "---  ------                    --------------  -----  \n",
      " 0   product sales tax         21710 non-null  float64\n",
      " 1   shipping credits          21710 non-null  float64\n",
      " 2   shipping credits tax      21710 non-null  float64\n",
      " 3   gift wrap credits         21710 non-null  float64\n",
      " 4   giftwrap credits tax      21710 non-null  float64\n",
      " 5   Regulatory Fee            21710 non-null  int64  \n",
      " 6   Tax On Regulatory Fee     21710 non-null  int64  \n",
      " 7   promotional rebates       21710 non-null  float64\n",
      " 8   promotional rebates tax   21710 non-null  int64  \n",
      " 9   marketplace withheld tax  21710 non-null  float64\n",
      " 10  selling fees              21710 non-null  float64\n",
      " 11  fba fees                  21710 non-null  float64\n",
      " 12  other transaction fees    21710 non-null  float64\n",
      " 13  other                     21710 non-null  object \n",
      " 14  total                     21710 non-null  object \n",
      "dtypes: float64(10), int64(3), object(2)\n",
      "memory usage: 2.5+ MB\n"
     ]
    }
   ],
   "source": [
    "df[float_columns].info()"
   ]
  },
  {
   "cell_type": "code",
   "execution_count": null,
   "metadata": {},
   "outputs": [
    {
     "data": {
      "text/plain": [
       "688        -1,424.50\n",
       "690        -2,072.00\n",
       "692        -1,203.20\n",
       "3412       -2,757.60\n",
       "3413       -1,895.85\n",
       "5271     -359,391.97\n",
       "8125       -1,764.40\n",
       "8126       -2,566.40\n",
       "14868    -247,504.01\n",
       "Name: other, dtype: object"
      ]
     },
     "metadata": {},
     "output_type": "display_data"
    }
   ],
   "source": [
    "df[df['other'].str.contains(',')].other"
   ]
  },
  {
   "cell_type": "code",
   "execution_count": null,
   "metadata": {},
   "outputs": [
    {
     "data": {
      "text/plain": [
       "688        -1,424.50\n",
       "690        -2,072.00\n",
       "692        -1,203.20\n",
       "3412       -2,757.60\n",
       "3413       -1,895.85\n",
       "5271     -359,391.97\n",
       "8125       -1,764.40\n",
       "8126       -2,566.40\n",
       "14868    -247,504.01\n",
       "Name: other, dtype: object"
      ]
     },
     "metadata": {},
     "output_type": "display_data"
    }
   ],
   "source": [
    "df[df['total'].str.contains(',')].other"
   ]
  },
  {
   "cell_type": "code",
   "execution_count": 45,
   "metadata": {},
   "outputs": [],
   "source": [
    "def parse_floats(series):\n",
    "    series = series.str.replace(',', '')\n",
    "    return pd.to_numeric(series)"
   ]
  },
  {
   "cell_type": "code",
   "execution_count": 72,
   "metadata": {},
   "outputs": [
    {
     "name": "stdout",
     "output_type": "stream",
     "text": [
      "<class 'pandas.core.frame.DataFrame'>\n",
      "RangeIndex: 21710 entries, 0 to 21709\n",
      "Data columns (total 2 columns):\n",
      " #   Column  Non-Null Count  Dtype  \n",
      "---  ------  --------------  -----  \n",
      " 0   other   21710 non-null  float64\n",
      " 1   total   21710 non-null  float64\n",
      "dtypes: float64(2)\n",
      "memory usage: 339.3 KB\n"
     ]
    }
   ],
   "source": [
    "clean_df[['other', 'total']] = df[['other', 'total']].apply(parse_floats)\n",
    "clean_df[['other', 'total']].info()"
   ]
  },
  {
   "cell_type": "code",
   "execution_count": 74,
   "metadata": {},
   "outputs": [
    {
     "name": "stdout",
     "output_type": "stream",
     "text": [
      "<class 'pandas.core.frame.DataFrame'>\n",
      "RangeIndex: 21710 entries, 0 to 21709\n",
      "Data columns (total 15 columns):\n",
      " #   Column                    Non-Null Count  Dtype  \n",
      "---  ------                    --------------  -----  \n",
      " 0   product sales tax         21710 non-null  float64\n",
      " 1   shipping credits          21710 non-null  float64\n",
      " 2   shipping credits tax      21710 non-null  float64\n",
      " 3   gift wrap credits         21710 non-null  float64\n",
      " 4   giftwrap credits tax      21710 non-null  float64\n",
      " 5   Regulatory Fee            21710 non-null  float64\n",
      " 6   Tax On Regulatory Fee     21710 non-null  float64\n",
      " 7   promotional rebates       21710 non-null  float64\n",
      " 8   promotional rebates tax   21710 non-null  float64\n",
      " 9   marketplace withheld tax  21710 non-null  float64\n",
      " 10  selling fees              21710 non-null  float64\n",
      " 11  fba fees                  21710 non-null  float64\n",
      " 12  other transaction fees    21710 non-null  float64\n",
      " 13  other                     21710 non-null  float64\n",
      " 14  total                     21710 non-null  float64\n",
      "dtypes: float64(15)\n",
      "memory usage: 2.5 MB\n"
     ]
    }
   ],
   "source": [
    "clean_df[float_columns] = clean_df[float_columns].apply(lambda x: x.astype('float'))\n",
    "clean_df[float_columns].info()"
   ]
  },
  {
   "cell_type": "markdown",
   "metadata": {},
   "source": [
    "### STRINGS"
   ]
  },
  {
   "cell_type": "code",
   "execution_count": 32,
   "metadata": {},
   "outputs": [
    {
     "name": "stdout",
     "output_type": "stream",
     "text": [
      "<class 'pandas.core.frame.DataFrame'>\n",
      "RangeIndex: 21710 entries, 0 to 21709\n",
      "Data columns (total 11 columns):\n",
      " #   Column                Non-Null Count  Dtype \n",
      "---  ------                --------------  ----- \n",
      " 0   type                  21710 non-null  object\n",
      " 1   order id              21417 non-null  object\n",
      " 2   sku                   21448 non-null  object\n",
      " 3   description           21710 non-null  object\n",
      " 4   marketplace           21229 non-null  object\n",
      " 5   account type          21710 non-null  object\n",
      " 6   fulfillment           21159 non-null  object\n",
      " 7   order city            21159 non-null  object\n",
      " 8   order state           21091 non-null  object\n",
      " 9   order postal          21158 non-null  object\n",
      " 10  tax collection model  19962 non-null  object\n",
      "dtypes: object(11)\n",
      "memory usage: 1.8+ MB\n"
     ]
    }
   ],
   "source": [
    "df[string_columns].info()"
   ]
  },
  {
   "cell_type": "code",
   "execution_count": 75,
   "metadata": {},
   "outputs": [
    {
     "name": "stdout",
     "output_type": "stream",
     "text": [
      "<class 'pandas.core.frame.DataFrame'>\n",
      "RangeIndex: 21710 entries, 0 to 21709\n",
      "Data columns (total 11 columns):\n",
      " #   Column                Non-Null Count  Dtype \n",
      "---  ------                --------------  ----- \n",
      " 0   type                  21710 non-null  string\n",
      " 1   order id              21417 non-null  string\n",
      " 2   sku                   21448 non-null  string\n",
      " 3   description           21710 non-null  string\n",
      " 4   marketplace           21229 non-null  string\n",
      " 5   account type          21710 non-null  string\n",
      " 6   fulfillment           21159 non-null  string\n",
      " 7   order city            21159 non-null  string\n",
      " 8   order state           21091 non-null  string\n",
      " 9   order postal          21158 non-null  string\n",
      " 10  tax collection model  19962 non-null  string\n",
      "dtypes: string(11)\n",
      "memory usage: 1.8 MB\n"
     ]
    }
   ],
   "source": [
    "clean_df[string_columns] = df[string_columns].apply(lambda x: x.astype('string'))\n",
    "clean_df[string_columns].info()"
   ]
  },
  {
   "cell_type": "markdown",
   "metadata": {},
   "source": [
    "## Saving"
   ]
  },
  {
   "cell_type": "code",
   "execution_count": 77,
   "metadata": {},
   "outputs": [],
   "source": [
    "clean_df.to_csv('parsed_data_types.csv')"
   ]
  },
  {
   "cell_type": "code",
   "execution_count": null,
   "metadata": {},
   "outputs": [],
   "source": []
  }
 ],
 "metadata": {
  "kernelspec": {
   "display_name": "Python 3.10.6 ('maelys-DsfQ2C5y-py3.10')",
   "language": "python",
   "name": "python3"
  },
  "language_info": {
   "codemirror_mode": {
    "name": "ipython",
    "version": 3
   },
   "file_extension": ".py",
   "mimetype": "text/x-python",
   "name": "python",
   "nbconvert_exporter": "python",
   "pygments_lexer": "ipython3",
   "version": "3.10.6"
  },
  "orig_nbformat": 4,
  "vscode": {
   "interpreter": {
    "hash": "467553129435ad0ecbdb7a9027512e49a425d5c8690a9ce294246c81cfe2970a"
   }
  }
 },
 "nbformat": 4,
 "nbformat_minor": 2
}
